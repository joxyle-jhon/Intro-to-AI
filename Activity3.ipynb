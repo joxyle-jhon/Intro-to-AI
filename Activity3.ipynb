{
  "cells": [
    {
      "cell_type": "code",
      "source": [
        "import numpy as np\n",
        "import pandas as pd\n",
        "import seaborn as sns\n",
        "import matplotlib.pyplot as plt\n",
        "from sklearn.datasets import load_diabetes\n",
        "from sklearn.model_selection import train_test_split\n",
        "from sklearn.linear_model import LinearRegression\n",
        "from sklearn.tree import DecisionTreeRegressor\n",
        "from sklearn.metrics import mean_squared_error"
      ],
      "metadata": {
        "id": "l2KePRDoADG6"
      },
      "execution_count": 1,
      "outputs": []
    },
    {
      "cell_type": "code",
      "source": [
        "# Load the dataset\n",
        "data = load_diabetes(as_frame=True)\n",
        "df_d = data['data']\n",
        "df_d['target'] = data['target']\n",
        "\n",
        "# Display feature names\n",
        "print('The features are:', data.feature_names)"
      ],
      "metadata": {
        "colab": {
          "base_uri": "https://localhost:8080/"
        },
        "id": "m2YBvTcyAQBO",
        "outputId": "1b965490-ffa9-4983-8518-14dc9f9e656e"
      },
      "execution_count": 8,
      "outputs": [
        {
          "output_type": "stream",
          "name": "stdout",
          "text": [
            "The features are: ['age', 'sex', 'bmi', 'bp', 's1', 's2', 's3', 's4', 's5', 's6']\n"
          ]
        }
      ]
    },
    {
      "cell_type": "code",
      "source": [
        "# Split data into train and test sets\n",
        "X = df_d.iloc[:, :-1].values  # all features for multiple linear regression and decision tree regression\n",
        "y = df_d['target']\n",
        "\n",
        "X_train, X_test, y_train, y_test = train_test_split(X, y, test_size=0.2, random_state=1)\n"
      ],
      "metadata": {
        "id": "yCFLfAzKATnO"
      },
      "execution_count": 3,
      "outputs": []
    },
    {
      "cell_type": "code",
      "source": [
        "# Multiple Linear Regression\n",
        "lr_model = LinearRegression().fit(X_train, y_train)\n",
        "mse_lr = mean_squared_error(y_test, lr_model.predict(X_test))\n",
        "print('Linear Regression Mean Squared Error (Multiple Features):', mse_lr)"
      ],
      "metadata": {
        "colab": {
          "base_uri": "https://localhost:8080/"
        },
        "id": "4a6yfJYJAWhI",
        "outputId": "71041f56-789e-4afa-a065-18659bd79f8d"
      },
      "execution_count": 4,
      "outputs": [
        {
          "output_type": "stream",
          "name": "stdout",
          "text": [
            "Linear Regression Mean Squared Error (Multiple Features): 2992.5812293010176\n"
          ]
        }
      ]
    },
    {
      "cell_type": "code",
      "source": [
        "# Decision Tree Regression using CART\n",
        "tree_model = DecisionTreeRegressor(random_state=1).fit(X_train, y_train)\n",
        "mse_tree = mean_squared_error(y_test, tree_model.predict(X_test))\n",
        "print('Decision Tree Regression Mean Squared Error (CART):', mse_tree)"
      ],
      "metadata": {
        "colab": {
          "base_uri": "https://localhost:8080/"
        },
        "id": "UqclwyZhAZ_r",
        "outputId": "68f519f2-d1a8-4ef6-9b11-af0c09af8f97"
      },
      "execution_count": 5,
      "outputs": [
        {
          "output_type": "stream",
          "name": "stdout",
          "text": [
            "Decision Tree Regression Mean Squared Error (CART): 6703.29213483146\n"
          ]
        }
      ]
    },
    {
      "cell_type": "code",
      "source": [
        "# Comparison of results\n",
        "if mse_lr < mse_tree:\n",
        "    print(\"Multiple Linear Regression has a lower MSE and performs better.\")\n",
        "else:\n",
        "    print(\"Decision Tree Regression has a lower MSE and performs better.\")"
      ],
      "metadata": {
        "colab": {
          "base_uri": "https://localhost:8080/"
        },
        "id": "C2ZwG2BsAcUY",
        "outputId": "2482474d-03d5-456c-ca08-48ea736cac06"
      },
      "execution_count": 6,
      "outputs": [
        {
          "output_type": "stream",
          "name": "stdout",
          "text": [
            "Multiple Linear Regression has a lower MSE and performs better.\n"
          ]
        }
      ]
    }
  ],
  "metadata": {
    "colab": {
      "toc_visible": true,
      "provenance": []
    },
    "kernelspec": {
      "display_name": "Python 3",
      "name": "python3"
    }
  },
  "nbformat": 4,
  "nbformat_minor": 0
}